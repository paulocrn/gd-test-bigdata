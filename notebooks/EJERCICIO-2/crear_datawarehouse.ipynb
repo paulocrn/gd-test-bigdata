{
 "cells": [
  {
   "cell_type": "code",
   "execution_count": 2,
   "id": "7904ee7c-da85-4b7a-a979-ef14ecf53379",
   "metadata": {},
   "outputs": [
    {
     "name": "stdout",
     "output_type": "stream",
     "text": [
      "Tabla 'dim_clientes' creada correctamente.\n",
      "Tabla 'dim_productos' creada correctamente.\n",
      "Tabla 'dim_corresponsales' creada correctamente.\n",
      "Tabla 'dim_tiempo' creada correctamente.\n",
      "Tabla 'hechos_ventas' creada correctamente.\n",
      "Proceso de creación de tablas datawarehouse completado.\n"
     ]
    }
   ],
   "source": [
    "# Creación de la base de datos en PostgreSQL\n",
    "import psycopg2\n",
    "import calendar\n",
    "from datetime import datetime, timedelta\n",
    "\n",
    "# Conexión a la base de datos\n",
    "conn = psycopg2.connect(\"dbname=postgres user=postgres password=postgres host=localhost\")\n",
    "cur = conn.cursor()\n",
    "\n",
    "# Verificar si tabla existe\n",
    "def table_exists(table_name):\n",
    "    cur.execute(f\"SELECT EXISTS (SELECT FROM information_schema.tables WHERE table_name = '{table_name}');\")\n",
    "    return cur.fetchone()[0]\n",
    "\n",
    "# Creación de tablas con claves foráneas\n",
    "ddl_statements = {\n",
    "    \"dim_clientes\": \"\"\"CREATE TABLE dim_clientes (\n",
    "        id_cliente BIGINT PRIMARY KEY,\n",
    "        nombre VARCHAR(100) NOT NULL\n",
    "    );\n",
    "    \"\"\",\n",
    "    \"dim_productos\": \"\"\"CREATE TABLE dim_productos (\n",
    "        id_producto BIGINT PRIMARY KEY,\n",
    "        nombre VARCHAR(100) NOT NULL,\n",
    "        categoria VARCHAR(50)\n",
    "    );\"\"\",\n",
    "    \"dim_corresponsales\": \"\"\"CREATE TABLE dim_corresponsales (\n",
    "        id_corresponsal BIGINT PRIMARY KEY,\n",
    "        nombre VARCHAR(100) NOT NULL\n",
    "    );\n",
    "    \"\"\",\n",
    "    \"dim_tiempo\": \"\"\"CREATE TABLE dim_tiempo (\n",
    "        fecha DATE PRIMARY KEY,\n",
    "        dia INT,\n",
    "        mes INT,\n",
    "        anio INT\n",
    "    );\n",
    "    \"\"\",\n",
    "    \"hechos_ventas\": \"\"\"CREATE TABLE hechos_ventas (\n",
    "        id_venta BIGSERIAL PRIMARY KEY,\n",
    "        id_cliente BIGINT REFERENCES dim_clientes(id_cliente),\n",
    "        id_producto BIGINT REFERENCES dim_productos(id_producto),\n",
    "        id_corresponsal BIGINT REFERENCES dim_corresponsales(id_corresponsal) ON DELETE SET NULL,\n",
    "        fecha DATE REFERENCES dim_tiempo(fecha),\n",
    "        total_pagado NUMERIC(10,2),\n",
    "        cantidad INT\n",
    "    );\n",
    "    \"\"\"\n",
    "}\n",
    "\n",
    "# Ejecutar los comandos SQL solo si la tabla no existe\n",
    "for table, ddl in ddl_statements.items():\n",
    "    if not table_exists(table):\n",
    "        cur.execute(ddl)\n",
    "        print(f\"Tabla '{table}' creada correctamente.\")\n",
    "    else:\n",
    "        print(f\"Tabla '{table}' ya existe, saltando creación.\")\n",
    "\n",
    "conn.commit()\n",
    "cur.close()\n",
    "conn.close()\n",
    "\n",
    "print(\"Proceso de creación de tablas datawarehouse completado.\")"
   ]
  },
  {
   "cell_type": "code",
   "execution_count": null,
   "id": "fefc2e4f-53ad-4a7a-9a4a-a5c618cb0ca2",
   "metadata": {},
   "outputs": [],
   "source": []
  }
 ],
 "metadata": {
  "kernelspec": {
   "display_name": "Python 3 (ipykernel)",
   "language": "python",
   "name": "python3"
  },
  "language_info": {
   "codemirror_mode": {
    "name": "ipython",
    "version": 3
   },
   "file_extension": ".py",
   "mimetype": "text/x-python",
   "name": "python",
   "nbconvert_exporter": "python",
   "pygments_lexer": "ipython3",
   "version": "3.9.2"
  }
 },
 "nbformat": 4,
 "nbformat_minor": 5
}
