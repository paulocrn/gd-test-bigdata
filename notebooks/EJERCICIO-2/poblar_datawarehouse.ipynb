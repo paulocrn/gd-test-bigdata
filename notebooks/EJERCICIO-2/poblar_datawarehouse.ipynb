{
 "cells": [
  {
   "cell_type": "code",
   "execution_count": 3,
   "id": "7ec453d3-5cc5-44dc-a279-e8ce691ad7bb",
   "metadata": {},
   "outputs": [
    {
     "name": "stdout",
     "output_type": "stream",
     "text": [
      "Data replicada correctamente en el Data Warehouse.\n"
     ]
    }
   ],
   "source": [
    "import pandas as pd\n",
    "import psycopg2\n",
    "\n",
    "conn = psycopg2.connect(\"dbname=postgres user=postgres password=postgres host=localhost\")\n",
    "cur = conn.cursor()\n",
    "\n",
    "# Poblar tablas de dimensiones\n",
    "dim_queries = [\n",
    "    \"INSERT INTO dim_clientes (id_cliente, nombre) SELECT DISTINCT id, UPPER(nombre) FROM clientes;\",\n",
    "    \"INSERT INTO dim_productos (id_producto, nombre, categoria) SELECT DISTINCT id, UPPER(nombre), 'General' FROM productos;\",\n",
    "    \"INSERT INTO dim_tiempo (fecha, dia, mes, anio) SELECT DISTINCT fecha, EXTRACT(DAY FROM fecha), EXTRACT(MONTH FROM fecha), EXTRACT(YEAR FROM fecha) FROM ordenes;\",\n",
    "    \"INSERT INTO dim_corresponsales (id_corresponsal, nombre) SELECT DISTINCT id, UPPER(nombre) FROM corresponsales;\"\n",
    "]\n",
    "\n",
    "\n",
    "for query in dim_queries:\n",
    "    try:\n",
    "        cur.execute(query)\n",
    "        conn.commit()\n",
    "    except Exception as e:\n",
    "        print(\"Error:\", e)\n",
    "\n",
    "query = \"\"\"\n",
    "    INSERT INTO hechos_ventas (id_cliente, id_producto, id_corresponsal, fecha, total_pagado, cantidad)\n",
    "    SELECT \n",
    "        o.id_cliente, \n",
    "        det.id_producto, \n",
    "        COALESCE(c.id, 1), \n",
    "        o.fecha, \n",
    "        ROUND((det.precio * det.cantidad), 2) AS total_pagado,\n",
    "        det.cantidad\n",
    "    FROM ordenes o\n",
    "    JOIN detalles_ordenes det ON o.id = det.id_orden\n",
    "    LEFT JOIN corresponsales c ON o.id_corresponsal = c.id;\n",
    "    \"\"\"\n",
    "\n",
    "cur.execute(query)\n",
    "conn.commit()\n",
    "\n",
    "print(\"Data replicada correctamente en el Data Warehouse.\")\n",
    "\n",
    "# Cerrar conexión\n",
    "cur.close()\n",
    "conn.close()"
   ]
  },
  {
   "cell_type": "code",
   "execution_count": null,
   "id": "ba0ec351-7612-437a-88c7-d4ae87b9bf0b",
   "metadata": {},
   "outputs": [],
   "source": []
  }
 ],
 "metadata": {
  "kernelspec": {
   "display_name": "Python 3 (ipykernel)",
   "language": "python",
   "name": "python3"
  },
  "language_info": {
   "codemirror_mode": {
    "name": "ipython",
    "version": 3
   },
   "file_extension": ".py",
   "mimetype": "text/x-python",
   "name": "python",
   "nbconvert_exporter": "python",
   "pygments_lexer": "ipython3",
   "version": "3.9.2"
  }
 },
 "nbformat": 4,
 "nbformat_minor": 5
}
