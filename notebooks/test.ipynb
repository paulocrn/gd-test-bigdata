{
 "cells": [
  {
   "cell_type": "code",
   "execution_count": 2,
   "id": "420f2b41-ee77-45bf-906f-209a49af2be1",
   "metadata": {},
   "outputs": [
    {
     "name": "stdout",
     "output_type": "stream",
     "text": [
      "<pyspark.sql.session.SparkSession object at 0x7f33431c9250>\n"
     ]
    }
   ],
   "source": [
    "from pyspark.sql import SparkSession\n",
    "\n",
    "spark = SparkSession.builder \\\n",
    "    .appName(\"PostgreSQLConnection\") \\\n",
    "    .config(\"spark.jars\", \"postgresql-42.7.5.jar\") \\\n",
    "    .config(\"spark.driver.extraClassPath\", \"postgresql-42.7.5.jar\") \\\n",
    "    .getOrCreate()\n",
    "\n",
    "# Verifica que la sesión de Spark se haya creado\n",
    "print(spark)"
   ]
  },
  {
   "cell_type": "code",
   "execution_count": null,
   "id": "ac4fe096-6e6c-472f-b2d9-15e23a8ebafd",
   "metadata": {},
   "outputs": [],
   "source": []
  }
 ],
 "metadata": {
  "kernelspec": {
   "display_name": "Python 3 (ipykernel)",
   "language": "python",
   "name": "python3"
  },
  "language_info": {
   "codemirror_mode": {
    "name": "ipython",
    "version": 3
   },
   "file_extension": ".py",
   "mimetype": "text/x-python",
   "name": "python",
   "nbconvert_exporter": "python",
   "pygments_lexer": "ipython3",
   "version": "3.9.2"
  }
 },
 "nbformat": 4,
 "nbformat_minor": 5
}
